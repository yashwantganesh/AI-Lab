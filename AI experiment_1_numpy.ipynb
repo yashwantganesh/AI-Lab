{
  "nbformat": 4,
  "nbformat_minor": 0,
  "metadata": {
    "colab": {
      "name": "Untitled0.ipynb",
      "provenance": [],
      "collapsed_sections": [],
      "authorship_tag": "ABX9TyObHC4nPULqR+TQ3UfVQeeB",
      "include_colab_link": true
    },
    "kernelspec": {
      "name": "python3",
      "display_name": "Python 3"
    }
  },
  "cells": [
    {
      "cell_type": "markdown",
      "metadata": {
        "id": "view-in-github",
        "colab_type": "text"
      },
      "source": [
        "<a href=\"https://colab.research.google.com/github/yashwantganesh/AI-Lab/blob/master/AI%20experiment_1_numpy.ipynb\" target=\"_parent\"><img src=\"https://colab.research.google.com/assets/colab-badge.svg\" alt=\"Open In Colab\"/></a>"
      ]
    },
    {
      "cell_type": "code",
      "metadata": {
        "id": "LzBnbnBCAZLF",
        "colab_type": "code",
        "colab": {}
      },
      "source": [
        "Experiment 1\n"
      ],
      "execution_count": null,
      "outputs": []
    },
    {
      "cell_type": "markdown",
      "metadata": {
        "id": "tfPcp8iuBSZ9",
        "colab_type": "text"
      },
      "source": [
        "1) different ways to create a numpy array"
      ]
    },
    {
      "cell_type": "code",
      "metadata": {
        "id": "SdEOVd1QBg7l",
        "colab_type": "code",
        "colab": {
          "base_uri": "https://localhost:8080/",
          "height": 34
        },
        "outputId": "6386c00e-b597-486e-b515-c354661dbaf1"
      },
      "source": [
        "import numpy as np\n",
        "l=np.array([4,5,6])\n",
        "print(l)"
      ],
      "execution_count": null,
      "outputs": [
        {
          "output_type": "stream",
          "text": [
            "[4 5 6]\n"
          ],
          "name": "stdout"
        }
      ]
    },
    {
      "cell_type": "markdown",
      "metadata": {
        "id": "YHDZwbeKCduQ",
        "colab_type": "text"
      },
      "source": [
        "2)add,remove,modify array elements\n"
      ]
    },
    {
      "cell_type": "code",
      "metadata": {
        "id": "HIzsSdn6C2wG",
        "colab_type": "code",
        "colab": {
          "base_uri": "https://localhost:8080/",
          "height": 34
        },
        "outputId": "a78d390a-798a-411a-be27-5c8cd1748033"
      },
      "source": [
        "#add\n",
        "l=np.array([2,3])\n",
        "l=np.append(l,[4,5])\n",
        "print(l)"
      ],
      "execution_count": null,
      "outputs": [
        {
          "output_type": "stream",
          "text": [
            "[2 3 4 5]\n"
          ],
          "name": "stdout"
        }
      ]
    },
    {
      "cell_type": "code",
      "metadata": {
        "id": "gSNa0z4GDllG",
        "colab_type": "code",
        "colab": {
          "base_uri": "https://localhost:8080/",
          "height": 34
        },
        "outputId": "a6289e02-9d50-4c90-8a40-3bebbfa197cf"
      },
      "source": [
        "#remove\n",
        "l=np.array([2,3,4,5])\n",
        "l=np.delete(l,1)\n",
        "print(l)"
      ],
      "execution_count": null,
      "outputs": [
        {
          "output_type": "stream",
          "text": [
            "[2 4 5]\n"
          ],
          "name": "stdout"
        }
      ]
    },
    {
      "cell_type": "code",
      "metadata": {
        "id": "8kkOeuQlGVZM",
        "colab_type": "code",
        "colab": {
          "base_uri": "https://localhost:8080/",
          "height": 34
        },
        "outputId": "83482e90-b088-405b-a651-b6d01a2203c0"
      },
      "source": [
        "#modify\n",
        "l=np.array([2,3,4])\n",
        "l[l<4]=1\n",
        "print(l)"
      ],
      "execution_count": null,
      "outputs": [
        {
          "output_type": "stream",
          "text": [
            "[1 1 4]\n"
          ],
          "name": "stdout"
        }
      ]
    },
    {
      "cell_type": "markdown",
      "metadata": {
        "id": "esqodnQRG3GS",
        "colab_type": "text"
      },
      "source": [
        "3)arthematic operations on numpy array\n",
        "\n"
      ]
    },
    {
      "cell_type": "code",
      "metadata": {
        "id": "gNOFFYmMKPee",
        "colab_type": "code",
        "colab": {
          "base_uri": "https://localhost:8080/",
          "height": 221
        },
        "outputId": "812e03f0-7fbe-4c35-a3f9-650ec21f798a"
      },
      "source": [
        "import numpy as np\n",
        "l=np.random.random((2,2))\n",
        "j=np.random.random((2,2))\n",
        "num_sum=np.add(l,j)\n",
        "num_diff=np.subtract(l,j)\n",
        "num_prod=np.multiply(l,j)\n",
        "num_quo=np.divide(l,j)\n",
        "num_mod=np.power(l,j)\n",
        "num_pow=np.power(l,j)\n",
        "print(num_sum)\n",
        "print(num_diff)\n",
        "print(num_prod)\n",
        "print(num_quo)\n",
        "print(num_mod)\n",
        "print(num_pow)\n"
      ],
      "execution_count": null,
      "outputs": [
        {
          "output_type": "stream",
          "text": [
            "[[1.72081078 0.98420744]\n",
            " [0.39528237 1.25190636]]\n",
            "[[ 0.12241812 -0.56773221]\n",
            " [-0.18732683  0.51507073]]\n",
            "[[0.73655089 0.1615861 ]\n",
            " [0.0302892  0.32549292]]\n",
            "[[1.15317653 0.26835787]\n",
            " [0.35693831 2.3980614 ]]\n",
            "[[0.93684536 0.29595282]\n",
            " [0.51716634 0.95538729]]\n",
            "[[0.93684536 0.29595282]\n",
            " [0.51716634 0.95538729]]\n"
          ],
          "name": "stdout"
        }
      ]
    },
    {
      "cell_type": "markdown",
      "metadata": {
        "id": "6DTzFiO2NtX5",
        "colab_type": "text"
      },
      "source": [
        "4) slicing and iterating of numpy arrays slicing"
      ]
    },
    {
      "cell_type": "code",
      "metadata": {
        "id": "X1R1cVQsN-6A",
        "colab_type": "code",
        "colab": {
          "base_uri": "https://localhost:8080/",
          "height": 34
        },
        "outputId": "6ddc8058-15b7-41ec-bf20-53ff475e2179"
      },
      "source": [
        "#slicing\n",
        "import numpy as np\n",
        "j=np.array([4,5,6,7,8,9])\n",
        "print(j[1:4])"
      ],
      "execution_count": null,
      "outputs": [
        {
          "output_type": "stream",
          "text": [
            "[5 6 7]\n"
          ],
          "name": "stdout"
        }
      ]
    },
    {
      "cell_type": "code",
      "metadata": {
        "id": "6W2M-62EOcDn",
        "colab_type": "code",
        "colab": {
          "base_uri": "https://localhost:8080/",
          "height": 221
        },
        "outputId": "a2973323-dd5d-4063-e05f-0cbfef614daf"
      },
      "source": [
        "#iterating\n",
        "for x in j:\n",
        "  print(j)"
      ],
      "execution_count": null,
      "outputs": [
        {
          "output_type": "stream",
          "text": [
            "[4 5 6 7 8 9]\n",
            "[4 5 6 7 8 9]\n",
            "[4 5 6 7 8 9]\n",
            "[4 5 6 7 8 9]\n",
            "[4 5 6 7 8 9]\n",
            "[4 5 6 7 8 9]\n",
            "[4 5 6 7 8 9]\n",
            "[4 5 6 7 8 9]\n",
            "[4 5 6 7 8 9]\n",
            "[4 5 6 7 8 9]\n",
            "[4 5 6 7 8 9]\n",
            "[4 5 6 7 8 9]\n"
          ],
          "name": "stdout"
        }
      ]
    },
    {
      "cell_type": "markdown",
      "metadata": {
        "id": "J_g7DzO6P4tI",
        "colab_type": "text"
      },
      "source": [
        "5) matrix operations on numpy arrays"
      ]
    },
    {
      "cell_type": "code",
      "metadata": {
        "id": "zfkb5k5FQFCb",
        "colab_type": "code",
        "colab": {
          "base_uri": "https://localhost:8080/",
          "height": 119
        },
        "outputId": "dabca26d-20ef-4c68-81f3-3a857ae98f1a"
      },
      "source": [
        "import numpy as np\n",
        "l=np.array([[4,6],[4,6]])\n",
        "j=np.array([[6,4],[6,4]])\n",
        "print(np.add(l,j))\n",
        "print(np.subtract(l,j))\n",
        "print(np.divide(l,j))"
      ],
      "execution_count": null,
      "outputs": [
        {
          "output_type": "stream",
          "text": [
            "[[10 10]\n",
            " [10 10]]\n",
            "[[-2  2]\n",
            " [-2  2]]\n",
            "[[0.66666667 1.5       ]\n",
            " [0.66666667 1.5       ]]\n"
          ],
          "name": "stdout"
        }
      ]
    }
  ]
}