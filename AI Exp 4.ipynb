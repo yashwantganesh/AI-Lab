{
  "nbformat": 4,
  "nbformat_minor": 0,
  "metadata": {
    "colab": {
      "name": "Untitled3.ipynb",
      "provenance": [],
      "authorship_tag": "ABX9TyM/1zyf9JGL3v+vIQnI0Ko3",
      "include_colab_link": true
    },
    "kernelspec": {
      "name": "python3",
      "display_name": "Python 3"
    }
  },
  "cells": [
    {
      "cell_type": "markdown",
      "metadata": {
        "id": "view-in-github",
        "colab_type": "text"
      },
      "source": [
        "<a href=\"https://colab.research.google.com/github/yashwantganesh/AI-Lab/blob/master/AI%20Exp%204.ipynb\" target=\"_parent\"><img src=\"https://colab.research.google.com/assets/colab-badge.svg\" alt=\"Open In Colab\"/></a>"
      ]
    },
    {
      "cell_type": "markdown",
      "metadata": {
        "id": "ujdrodS09HZZ"
      },
      "source": [
        "Basic statistics for machine learning."
      ]
    },
    {
      "cell_type": "code",
      "metadata": {
        "id": "WaEpYMuv9Sbu"
      },
      "source": [
        "import pandas as pd\n",
        "import numpy as np\n",
        "import matplotlib.pyplot as plt\n",
        "import seaborn as sns"
      ],
      "execution_count": 1,
      "outputs": []
    },
    {
      "cell_type": "markdown",
      "metadata": {
        "id": "jbkfvr8W922v"
      },
      "source": [
        "Import the data."
      ]
    },
    {
      "cell_type": "code",
      "metadata": {
        "id": "ko8zRqbG94Ey",
        "outputId": "66e4da80-4f1c-4aef-96a1-95a1f49155e0",
        "colab": {
          "base_uri": "https://localhost:8080/",
          "height": 241
        }
      },
      "source": [
        "df=pd.read_csv(\"students_placement_data.csv\")\n",
        "df.head()"
      ],
      "execution_count": 2,
      "outputs": [
        {
          "output_type": "execute_result",
          "data": {
            "text/html": [
              "<div>\n",
              "<style scoped>\n",
              "    .dataframe tbody tr th:only-of-type {\n",
              "        vertical-align: middle;\n",
              "    }\n",
              "\n",
              "    .dataframe tbody tr th {\n",
              "        vertical-align: top;\n",
              "    }\n",
              "\n",
              "    .dataframe thead th {\n",
              "        text-align: right;\n",
              "    }\n",
              "</style>\n",
              "<table border=\"1\" class=\"dataframe\">\n",
              "  <thead>\n",
              "    <tr style=\"text-align: right;\">\n",
              "      <th></th>\n",
              "      <th>Roll No</th>\n",
              "      <th>Gender</th>\n",
              "      <th>Section</th>\n",
              "      <th>SSC Percentage</th>\n",
              "      <th>inter_Diploma_percentage</th>\n",
              "      <th>B.Tech_percentage</th>\n",
              "      <th>Backlogs</th>\n",
              "      <th>registered_for_ Placement_Training</th>\n",
              "      <th>placement status</th>\n",
              "    </tr>\n",
              "  </thead>\n",
              "  <tbody>\n",
              "    <tr>\n",
              "      <th>0</th>\n",
              "      <td>1</td>\n",
              "      <td>M</td>\n",
              "      <td>A</td>\n",
              "      <td>87.3</td>\n",
              "      <td>65.3</td>\n",
              "      <td>40.00</td>\n",
              "      <td>18</td>\n",
              "      <td>NO</td>\n",
              "      <td>Not placed</td>\n",
              "    </tr>\n",
              "    <tr>\n",
              "      <th>1</th>\n",
              "      <td>2</td>\n",
              "      <td>F</td>\n",
              "      <td>A</td>\n",
              "      <td>89.0</td>\n",
              "      <td>92.4</td>\n",
              "      <td>71.45</td>\n",
              "      <td>0</td>\n",
              "      <td>yes</td>\n",
              "      <td>Placed</td>\n",
              "    </tr>\n",
              "    <tr>\n",
              "      <th>2</th>\n",
              "      <td>3</td>\n",
              "      <td>F</td>\n",
              "      <td>A</td>\n",
              "      <td>67.0</td>\n",
              "      <td>68.0</td>\n",
              "      <td>45.26</td>\n",
              "      <td>13</td>\n",
              "      <td>yes</td>\n",
              "      <td>Not placed</td>\n",
              "    </tr>\n",
              "    <tr>\n",
              "      <th>3</th>\n",
              "      <td>4</td>\n",
              "      <td>M</td>\n",
              "      <td>A</td>\n",
              "      <td>71.0</td>\n",
              "      <td>70.4</td>\n",
              "      <td>36.47</td>\n",
              "      <td>17</td>\n",
              "      <td>yes</td>\n",
              "      <td>Not placed</td>\n",
              "    </tr>\n",
              "    <tr>\n",
              "      <th>4</th>\n",
              "      <td>5</td>\n",
              "      <td>M</td>\n",
              "      <td>A</td>\n",
              "      <td>NaN</td>\n",
              "      <td>65.5</td>\n",
              "      <td>42.52</td>\n",
              "      <td>17</td>\n",
              "      <td>yes</td>\n",
              "      <td>Not placed</td>\n",
              "    </tr>\n",
              "  </tbody>\n",
              "</table>\n",
              "</div>"
            ],
            "text/plain": [
              "   Roll No Gender  ... registered_for_ Placement_Training  placement status\n",
              "0        1      M  ...                                 NO        Not placed\n",
              "1        2      F  ...                                yes            Placed\n",
              "2        3      F  ...                                yes        Not placed\n",
              "3        4      M  ...                                yes        Not placed\n",
              "4        5      M  ...                                yes        Not placed\n",
              "\n",
              "[5 rows x 9 columns]"
            ]
          },
          "metadata": {
            "tags": []
          },
          "execution_count": 2
        }
      ]
    },
    {
      "cell_type": "markdown",
      "metadata": {
        "id": "_epnZkkZ-jAm"
      },
      "source": [
        "1) Central Tendency- Mean, Median, Mode"
      ]
    },
    {
      "cell_type": "markdown",
      "metadata": {
        "id": "HedNHDr3-khd"
      },
      "source": [
        "1.1) Calculate the mean & median of SSC Percentage, inter_Diploma_percentage and B.Tech_percentage"
      ]
    },
    {
      "cell_type": "code",
      "metadata": {
        "id": "sTxsZTHJ-qDp",
        "outputId": "24d12195-6274-4185-8841-c30960ea760e",
        "colab": {
          "base_uri": "https://localhost:8080/",
          "height": 153
        }
      },
      "source": [
        "print(\"Mean of SSC score is\",df[\"SSC Percentage\"].mean())\n",
        "print(\"Mean of inter_Diploma_percentage is\",df[\"inter_Diploma_percentage\"].mean())\n",
        "print(\"Mean of B.Tech_percentage is\",df[\"B.Tech_percentage\"].mean())\n",
        "print(\"\\n\")\n",
        "print(\"Median of SSC score is\",df[\"SSC Percentage\"].median())\n",
        "print(\"Median of inter_Diploma_percentage is\",df[\"inter_Diploma_percentage\"].median())\n",
        "print(\"Median of B.Tech_percentage is\",df[\"B.Tech_percentage\"].median())"
      ],
      "execution_count": 3,
      "outputs": [
        {
          "output_type": "stream",
          "text": [
            "Mean of SSC score is 80.47456896551722\n",
            "Mean of inter_Diploma_percentage is 80.77290598290598\n",
            "Mean of B.Tech_percentage is 62.9434188034188\n",
            "\n",
            "\n",
            "Median of SSC score is 82.745\n",
            "Median of inter_Diploma_percentage is 83.6\n",
            "Median of B.Tech_percentage is 64.36\n"
          ],
          "name": "stdout"
        }
      ]
    },
    {
      "cell_type": "code",
      "metadata": {
        "id": "IGkKXNch-2W_"
      },
      "source": [
        "1.2) Apply mode on Gender. Are there more male or female?"
      ],
      "execution_count": null,
      "outputs": []
    },
    {
      "cell_type": "code",
      "metadata": {
        "id": "2UG-Hl1q-3xm",
        "outputId": "616c9426-b904-4229-8bbc-ca6be2a85c0d",
        "colab": {
          "base_uri": "https://localhost:8080/",
          "height": 51
        }
      },
      "source": [
        "df[\"Gender\"].mode()"
      ],
      "execution_count": 4,
      "outputs": [
        {
          "output_type": "execute_result",
          "data": {
            "text/plain": [
              "0    M\n",
              "dtype: object"
            ]
          },
          "metadata": {
            "tags": []
          },
          "execution_count": 4
        }
      ]
    },
    {
      "cell_type": "markdown",
      "metadata": {
        "id": "Cz-8qZ59_Jpq"
      },
      "source": [
        "2) Distribution of Data- Range, Interquartile range, Variance, Standard deviation, Correlation."
      ]
    },
    {
      "cell_type": "markdown",
      "metadata": {
        "id": "ucGKcwSo_M9S"
      },
      "source": [
        "2.1) Range\n",
        "\n",
        "Range defines the difference between the maximum and minimum value.What is the range of SSC Percentage,inter_Diploma_percentage and B.Tech_percentage"
      ]
    },
    {
      "cell_type": "code",
      "metadata": {
        "id": "XLcfmS7s_UsE",
        "outputId": "75673eb1-be9b-46bc-98fb-3d38f440c009",
        "colab": {
          "base_uri": "https://localhost:8080/",
          "height": 119
        }
      },
      "source": [
        "print(\"Range in SSC score\",df[[\"SSC Percentage\"]].max()-df[[\"SSC Percentage\"]].min())\n",
        "print(\"Range in inter Diploma score\",df[[\"inter_Diploma_percentage\"]].max()-df[[\"inter_Diploma_percentage\"]].min())\n",
        "print(\"Range in B.Tech score\",df[[\"B.Tech_percentage\"]].max()-df[[\"B.Tech_percentage\"]].min())"
      ],
      "execution_count": 5,
      "outputs": [
        {
          "output_type": "stream",
          "text": [
            "Range in SSC score SSC Percentage    45.86\n",
            "dtype: float64\n",
            "Range in inter Diploma score inter_Diploma_percentage    44.7\n",
            "dtype: float64\n",
            "Range in B.Tech score B.Tech_percentage    56.9\n",
            "dtype: float64\n"
          ],
          "name": "stdout"
        }
      ]
    },
    {
      "cell_type": "markdown",
      "metadata": {
        "id": "8-UmUSll_eRb"
      },
      "source": [
        "2.2) Interquartile range"
      ]
    },
    {
      "cell_type": "markdown",
      "metadata": {
        "id": "OguRDKgV_fDm"
      },
      "source": [
        "Find the interquartile range of SSC percentage"
      ]
    },
    {
      "cell_type": "code",
      "metadata": {
        "id": "H7MxqAtl_mOw",
        "outputId": "0ee36d95-d932-4cd4-90cc-451a9e704c57",
        "colab": {
          "base_uri": "https://localhost:8080/",
          "height": 68
        }
      },
      "source": [
        "Q1 = df['SSC Percentage'].quantile(0.25)\n",
        "print(\"Quartile 1 is\",Q1)\n",
        "Q3 = df['SSC Percentage'].quantile(0.75)\n",
        "print(\"Quartile 3 is\",Q3)\n",
        "IQR = Q3-Q1\n",
        "print(\"The interquartile range is\",IQR)"
      ],
      "execution_count": 6,
      "outputs": [
        {
          "output_type": "stream",
          "text": [
            "Quartile 1 is 76.6225\n",
            "Quartile 3 is 87.025\n",
            "The interquartile range is 10.402500000000003\n"
          ],
          "name": "stdout"
        }
      ]
    },
    {
      "cell_type": "markdown",
      "metadata": {
        "id": "0TZIXAIX_uO_"
      },
      "source": [
        "2.3) Standard deviation\n",
        "\n",
        "\n",
        "Find the standard deviation of SSC Percentage,inter_Diploma_percentage and B.Tech_percentage."
      ]
    },
    {
      "cell_type": "code",
      "metadata": {
        "id": "Zsz8_gCs_zob",
        "outputId": "cc2f2600-44ec-4605-ec0e-b3e0c706bfbc",
        "colab": {
          "base_uri": "https://localhost:8080/",
          "height": 68
        }
      },
      "source": [
        "print(\"Standard deviation of SSC score is\",df['SSC Percentage'].std())\n",
        "print(\"Standard deviation of inter Diploma score is\",df['inter_Diploma_percentage'].std())\n",
        "print(\"Standard deviation of B.Tech score is\",df['B.Tech_percentage'].std())"
      ],
      "execution_count": 7,
      "outputs": [
        {
          "output_type": "stream",
          "text": [
            "Standard deviation of SSC score is 8.836078944698352\n",
            "Standard deviation of inter Diploma score is 11.26724785566931\n",
            "Standard deviation of B.Tech score is 12.064305584885746\n"
          ],
          "name": "stdout"
        }
      ]
    },
    {
      "cell_type": "markdown",
      "metadata": {
        "id": "HcDfw1x-AE1Q"
      },
      "source": [
        "2.4) Variance\n",
        "\n",
        "Find the variance of SSC Percentage,inter_Diploma_percentage and B.Tech_percentage."
      ]
    },
    {
      "cell_type": "code",
      "metadata": {
        "id": "6YA2JI1HAF4S",
        "outputId": "54f54d8c-3916-45fb-823e-5c7d79f456c1",
        "colab": {
          "base_uri": "https://localhost:8080/",
          "height": 68
        }
      },
      "source": [
        "print(\"Variance of SSC score is\",df['SSC Percentage'].var())\n",
        "print(\"Variance of inter Diploma score is\",df['inter_Diploma_percentage'].var())\n",
        "print(\"Variance of B.Tech score is\",df['B.Tech_percentage'].var())"
      ],
      "execution_count": 8,
      "outputs": [
        {
          "output_type": "stream",
          "text": [
            "Variance of SSC score is 78.07629111694153\n",
            "Variance of inter Diploma score is 126.95087424108468\n",
            "Variance of B.Tech score is 145.54746924550543\n"
          ],
          "name": "stdout"
        }
      ]
    },
    {
      "cell_type": "markdown",
      "metadata": {
        "id": "tcp-ASynAQc8"
      },
      "source": [
        "2.5) Correlation\n",
        "\n",
        "Find the correlation between SSC Percentage, inter_Diploma_percentage and B.Tech Percentages"
      ]
    },
    {
      "cell_type": "code",
      "metadata": {
        "id": "VIOHTJk1ARxn",
        "outputId": "c61a4ea8-552d-4b49-f73e-710cc00d1de4",
        "colab": {
          "base_uri": "https://localhost:8080/",
          "height": 142
        }
      },
      "source": [
        "df[[\"SSC Percentage\",\"inter_Diploma_percentage\",\"B.Tech_percentage\"]].corr()"
      ],
      "execution_count": 9,
      "outputs": [
        {
          "output_type": "execute_result",
          "data": {
            "text/html": [
              "<div>\n",
              "<style scoped>\n",
              "    .dataframe tbody tr th:only-of-type {\n",
              "        vertical-align: middle;\n",
              "    }\n",
              "\n",
              "    .dataframe tbody tr th {\n",
              "        vertical-align: top;\n",
              "    }\n",
              "\n",
              "    .dataframe thead th {\n",
              "        text-align: right;\n",
              "    }\n",
              "</style>\n",
              "<table border=\"1\" class=\"dataframe\">\n",
              "  <thead>\n",
              "    <tr style=\"text-align: right;\">\n",
              "      <th></th>\n",
              "      <th>SSC Percentage</th>\n",
              "      <th>inter_Diploma_percentage</th>\n",
              "      <th>B.Tech_percentage</th>\n",
              "    </tr>\n",
              "  </thead>\n",
              "  <tbody>\n",
              "    <tr>\n",
              "      <th>SSC Percentage</th>\n",
              "      <td>1.000000</td>\n",
              "      <td>0.625586</td>\n",
              "      <td>0.492849</td>\n",
              "    </tr>\n",
              "    <tr>\n",
              "      <th>inter_Diploma_percentage</th>\n",
              "      <td>0.625586</td>\n",
              "      <td>1.000000</td>\n",
              "      <td>0.729697</td>\n",
              "    </tr>\n",
              "    <tr>\n",
              "      <th>B.Tech_percentage</th>\n",
              "      <td>0.492849</td>\n",
              "      <td>0.729697</td>\n",
              "      <td>1.000000</td>\n",
              "    </tr>\n",
              "  </tbody>\n",
              "</table>\n",
              "</div>"
            ],
            "text/plain": [
              "                          SSC Percentage  ...  B.Tech_percentage\n",
              "SSC Percentage                  1.000000  ...           0.492849\n",
              "inter_Diploma_percentage        0.625586  ...           0.729697\n",
              "B.Tech_percentage               0.492849  ...           1.000000\n",
              "\n",
              "[3 rows x 3 columns]"
            ]
          },
          "metadata": {
            "tags": []
          },
          "execution_count": 9
        }
      ]
    },
    {
      "cell_type": "markdown",
      "metadata": {
        "id": "IxElkzHgAh18"
      },
      "source": [
        "3) Draw a box plot to demonstrate Range, Interquartile range.\n",
        "\n",
        "Use a box plot to explain the performance of placed vs unplaced students in B.Tech."
      ]
    },
    {
      "cell_type": "code",
      "metadata": {
        "id": "niXyDMLlAn7A",
        "outputId": "009eaf3c-49fe-495f-e7fa-a4c0f9c1c8bb",
        "colab": {
          "base_uri": "https://localhost:8080/",
          "height": 297
        }
      },
      "source": [
        "sns.boxplot(x=\"placement status\",y=\"B.Tech_percentage\", data=df)"
      ],
      "execution_count": 10,
      "outputs": [
        {
          "output_type": "execute_result",
          "data": {
            "text/plain": [
              "<matplotlib.axes._subplots.AxesSubplot at 0x7f55812cbcf8>"
            ]
          },
          "metadata": {
            "tags": []
          },
          "execution_count": 10
        },
        {
          "output_type": "display_data",
          "data": {
            "image/png": "[encoded data removed]",
            "text/plain": [
              "<Figure size 432x288 with 1 Axes>"
            ]
          },
          "metadata": {
            "tags": [],
            "needs_background": "light"
          }
        }
      ]
    },
    {
      "cell_type": "markdown",
      "metadata": {
        "id": "mEkOUBv1BM3d"
      },
      "source": [
        "The range for unplaced students is approximately 32 to 77.\n",
        "\n",
        "The range for placed students is approximately 63 to 85.\n",
        "\n",
        "The interquartile range for unplaced students is approximately 52 to 65.\n",
        "\n",
        "The interquartile range for placed students is approximately 70 to 78.\n",
        "\n",
        "By visual inspection"
      ]
    },
    {
      "cell_type": "markdown",
      "metadata": {
        "id": "KKzpaBNQBOz3"
      },
      "source": [
        "4) Show the correlation between 2 variables using a scatter plot\n",
        "\n",
        "Find the correlation between SSC percentage and inter_Diploma_percentage by visual inspection using a scatter plot. What type of correlation do they have between them?"
      ]
    },
    {
      "cell_type": "code",
      "metadata": {
        "id": "1jc7yUn4BaHm",
        "outputId": "9714cc22-8648-4f39-e2dc-ef7ce40171ec",
        "colab": {
          "base_uri": "https://localhost:8080/",
          "height": 282
        }
      },
      "source": [
        "plt.scatter(df[\"SSC Percentage\"],df[\"inter_Diploma_percentage\"])"
      ],
      "execution_count": 11,
      "outputs": [
        {
          "output_type": "execute_result",
          "data": {
            "text/plain": [
              "<matplotlib.collections.PathCollection at 0x7f557ff7bd30>"
            ]
          },
          "metadata": {
            "tags": []
          },
          "execution_count": 11
        },
        {
          "output_type": "display_data",
          "data": {
            "image/png": "[encoded data removed]",
            "text/plain": [
              "<Figure size 432x288 with 1 Axes>"
            ]
          },
          "metadata": {
            "tags": [],
            "needs_background": "light"
          }
        }
      ]
    },
    {
      "cell_type": "markdown",
      "metadata": {
        "id": "nYlAyXZIBjon"
      },
      "source": [
        "There is a positive correlation between SSC Percentage and inter_Diploma_percentage."
      ]
    },
    {
      "cell_type": "markdown",
      "metadata": {
        "id": "U37uWQaaBlDU"
      },
      "source": [
        "5) Draw a histogram to show how data is distributed.\n",
        "\n",
        "5.1) Draw a histogram to show the distribution of SSC percentage. Most of the people got score in which range?"
      ]
    },
    {
      "cell_type": "code",
      "metadata": {
        "id": "Hca92lyKBwap",
        "outputId": "514f6b58-9958-4d9e-bc18-45f612b7f761",
        "colab": {
          "base_uri": "https://localhost:8080/",
          "height": 313
        }
      },
      "source": [
        "bins=np.linspace(0,100,11)\n",
        "print(bins)\n",
        "\n",
        "plt.hist(df[\"SSC Percentage\"],bins,width=9)\n",
        "plt.xlabel(\"SSC Percentage\")"
      ],
      "execution_count": 12,
      "outputs": [
        {
          "output_type": "stream",
          "text": [
            "[  0.  10.  20.  30.  40.  50.  60.  70.  80.  90. 100.]\n"
          ],
          "name": "stdout"
        },
        {
          "output_type": "execute_result",
          "data": {
            "text/plain": [
              "Text(0.5, 0, 'SSC Percentage')"
            ]
          },
          "metadata": {
            "tags": []
          },
          "execution_count": 12
        },
        {
          "output_type": "display_data",
          "data": {
            "image/png": "[encoded data removed]",
            "text/plain": [
              "<Figure size 432x288 with 1 Axes>"
            ]
          },
          "metadata": {
            "tags": [],
            "needs_background": "light"
          }
        }
      ]
    },
    {
      "cell_type": "markdown",
      "metadata": {
        "id": "4VKFmTLrB_yc"
      },
      "source": [
        "Most of the students got SSC Percentage in range of 80-90"
      ]
    },
    {
      "cell_type": "markdown",
      "metadata": {
        "id": "ipIPrYJwCAlD"
      },
      "source": [
        "5.2) Draw a histogram to show the distribution of B.Tech percentage. Most of the people got a score in which range?"
      ]
    },
    {
      "cell_type": "code",
      "metadata": {
        "id": "OFj-d659CEAI",
        "outputId": "277c5879-50d1-4421-e879-d64e0a541b09",
        "colab": {
          "base_uri": "https://localhost:8080/",
          "height": 314
        }
      },
      "source": [
        "bins=np.linspace(0,100,11)\n",
        "print(bins)\n",
        "\n",
        "plt.hist(df[\"B.Tech_percentage\"],bins,width=9)\n",
        "plt.xlabel(\"B.Tech_Percentage\")\n"
      ],
      "execution_count": 13,
      "outputs": [
        {
          "output_type": "stream",
          "text": [
            "[  0.  10.  20.  30.  40.  50.  60.  70.  80.  90. 100.]\n"
          ],
          "name": "stdout"
        },
        {
          "output_type": "execute_result",
          "data": {
            "text/plain": [
              "Text(0.5, 0, 'B.Tech_Percentage')"
            ]
          },
          "metadata": {
            "tags": []
          },
          "execution_count": 13
        },
        {
          "output_type": "display_data",
          "data": {
            "image/png": "[encoded data removed]",
            "text/plain": [
              "<Figure size 432x288 with 1 Axes>"
            ]
          },
          "metadata": {
            "tags": [],
            "needs_background": "light"
          }
        }
      ]
    },
    {
      "cell_type": "markdown",
      "metadata": {
        "id": "ECw6Nq-XCKYj"
      },
      "source": [
        "Most of the students got B.Tech percentage in range of 70 to 80 and 60 to 70\n",
        "\n"
      ]
    },
    {
      "cell_type": "markdown",
      "metadata": {
        "id": "2JsRhG_mCPRi"
      },
      "source": [
        "5.3) Draw a histogram to show the distribution of Intermediate percentage. Most of the people got score in which range?"
      ]
    },
    {
      "cell_type": "code",
      "metadata": {
        "id": "jnI-txLmCSnL",
        "outputId": "b47b95fb-2263-4f4d-8110-1d7612b140f5",
        "colab": {
          "base_uri": "https://localhost:8080/",
          "height": 314
        }
      },
      "source": [
        "bins=np.linspace(0,100,11)\n",
        "print(bins)\n",
        "\n",
        "plt.hist(df[\"inter_Diploma_percentage\"],bins,width=9)\n",
        "plt.xlabel(\"inter_Diploma_Percentage\")\n"
      ],
      "execution_count": 14,
      "outputs": [
        {
          "output_type": "stream",
          "text": [
            "[  0.  10.  20.  30.  40.  50.  60.  70.  80.  90. 100.]\n"
          ],
          "name": "stdout"
        },
        {
          "output_type": "execute_result",
          "data": {
            "text/plain": [
              "Text(0.5, 0, 'inter_Diploma_Percentage')"
            ]
          },
          "metadata": {
            "tags": []
          },
          "execution_count": 14
        },
        {
          "output_type": "display_data",
          "data": {
            "image/png": "[encoded data removed]",
            "text/plain": [
              "<Figure size 432x288 with 1 Axes>"
            ]
          },
          "metadata": {
            "tags": [],
            "needs_background": "light"
          }
        }
      ]
    },
    {
      "cell_type": "markdown",
      "metadata": {
        "id": "RqJ61rUWCZIN"
      },
      "source": [
        "Most of the students got intermediate percentage in range of 80-90."
      ]
    },
    {
      "cell_type": "markdown",
      "metadata": {
        "id": "i9NoYE3-Cc3g"
      },
      "source": [
        "6) For the given data, show which attributes as a) continuous b) Ordered c) Binary."
      ]
    },
    {
      "cell_type": "code",
      "metadata": {
        "id": "0cif7OQXCgee",
        "outputId": "b411e3c9-08da-4f00-d1d9-ebefbd3a99ee",
        "colab": {
          "base_uri": "https://localhost:8080/",
          "height": 187
        }
      },
      "source": [
        "df.nunique()"
      ],
      "execution_count": 15,
      "outputs": [
        {
          "output_type": "execute_result",
          "data": {
            "text/plain": [
              "Roll No                               117\n",
              "Gender                                  2\n",
              "Section                                 2\n",
              "SSC Percentage                         88\n",
              "inter_Diploma_percentage               99\n",
              "B.Tech_percentage                     106\n",
              "Backlogs                               22\n",
              "registered_for_ Placement_Training      2\n",
              "placement status                        2\n",
              "dtype: int64"
            ]
          },
          "metadata": {
            "tags": []
          },
          "execution_count": 15
        }
      ]
    },
    {
      "cell_type": "markdown",
      "metadata": {
        "id": "ZRkscsZQCumY"
      },
      "source": [
        "From the data,Gender,Section,registered_for_Placement_Training.Placement status are binary attributes because they take only two values."
      ]
    },
    {
      "cell_type": "code",
      "metadata": {
        "id": "ny2P8wLIC01F",
        "outputId": "2937e2db-8171-4e1c-fda1-ae0056598f03",
        "colab": {
          "base_uri": "https://localhost:8080/",
          "height": 187
        }
      },
      "source": [
        "df.dtypes"
      ],
      "execution_count": 16,
      "outputs": [
        {
          "output_type": "execute_result",
          "data": {
            "text/plain": [
              "Roll No                                 int64\n",
              "Gender                                 object\n",
              "Section                                object\n",
              "SSC Percentage                        float64\n",
              "inter_Diploma_percentage              float64\n",
              "B.Tech_percentage                     float64\n",
              "Backlogs                                int64\n",
              "registered_for_ Placement_Training     object\n",
              "placement status                       object\n",
              "dtype: object"
            ]
          },
          "metadata": {
            "tags": []
          },
          "execution_count": 16
        }
      ]
    },
    {
      "cell_type": "markdown",
      "metadata": {
        "id": "6SVnqdmxDAMT"
      },
      "source": [
        "Domain knowledge plays an important role to decide a type of attribute.\n",
        "\n",
        "SSC Pecentage,inter_Diploma_percentage,B.Tech_percentage are continuous and ordinal attributes.\n",
        "\n",
        "Backlogs can be ordinal.There will be a limit number of backlogs."
      ]
    },
    {
      "cell_type": "markdown",
      "metadata": {
        "id": "QnHrRw48DHFt"
      },
      "source": [
        ""
      ]
    }
  ]
}